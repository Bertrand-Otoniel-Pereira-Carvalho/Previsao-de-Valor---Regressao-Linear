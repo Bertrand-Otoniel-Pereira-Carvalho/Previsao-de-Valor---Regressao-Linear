{
 "cells": [
  {
   "cell_type": "code",
   "execution_count": 23,
   "id": "d5e02105-4bc5-49d4-9426-d91f704310ef",
   "metadata": {},
   "outputs": [],
   "source": [
    "from numpy import * "
   ]
  },
  {
   "cell_type": "code",
   "execution_count": 32,
   "id": "849ed4bd-c5e6-4ebf-89cb-802590b19659",
   "metadata": {},
   "outputs": [],
   "source": [
    "class LinearRegression:\n",
    "    def __init__(self,x,y):\n",
    "         self.x = x\n",
    "         self.y = y\n",
    "         self.__correlation_coefficient = self.__correlacao()\n",
    "         self.__inclination = self.__inclinacao()\n",
    "         self.__intercept = self.__interceptacao()\n",
    "\n",
    "    def __correlacao(self):\n",
    "        covariacao = cov(self.x,self.y, bias = True) [0][1]\n",
    "        variancia_x = var(self.x)\n",
    "        variancia_y = var(self.y)\n",
    "        return covariacao / sqrt(variancia_x * variancia_y)\n",
    "        \n",
    "    def __inclinacao(self):\n",
    "        stdx = std(self.x)\n",
    "        stdy = std(self.y)\n",
    "        return self.__correlation_coefficient * (stdy / stdx)\n",
    "\n",
    "    def __interceptacao(self):\n",
    "        mediax = mean(self.x)\n",
    "        mediay = mean(self.y)\n",
    "        return mediay - mediax * self.__inclination\n",
    "        \n",
    "    def previsao(self,valor):\n",
    "        return self.__intercept + (self.__inclination * valor)\n",
    "            "
   ]
  },
  {
   "cell_type": "code",
   "execution_count": 40,
   "id": "437a9a5a-f49d-42ed-87b4-95f64f7583cf",
   "metadata": {},
   "outputs": [
    {
     "name": "stdout",
     "output_type": "stream",
     "text": [
      "10.0\n"
     ]
    }
   ],
   "source": [
    "x = array([1,2,3,4,5])\n",
    "y = array([2,4,6,8,10])\n",
    "\n",
    "lr = LinearRegression(x,y)\n",
    "previsao = lr.previsao(5)\n",
    "print(previsao)\n"
   ]
  },
  {
   "cell_type": "code",
   "execution_count": null,
   "id": "ebbfb8e6-aad1-4ab4-962d-23555f43aa0a",
   "metadata": {},
   "outputs": [],
   "source": []
  }
 ],
 "metadata": {
  "kernelspec": {
   "display_name": "Python [conda env:base] *",
   "language": "python",
   "name": "conda-base-py"
  },
  "language_info": {
   "codemirror_mode": {
    "name": "ipython",
    "version": 3
   },
   "file_extension": ".py",
   "mimetype": "text/x-python",
   "name": "python",
   "nbconvert_exporter": "python",
   "pygments_lexer": "ipython3",
   "version": "3.12.7"
  }
 },
 "nbformat": 4,
 "nbformat_minor": 5
}
